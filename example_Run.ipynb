{
 "cells": [
  {
   "cell_type": "code",
   "execution_count": 1,
   "metadata": {},
   "outputs": [
    {
     "name": "stdout",
     "output_type": "stream",
     "text": [
      "Logging hadn't been started.\n",
      "Activating auto-logging. Current session state plus future input saved.\n",
      "Filename       : D:\\Labrad\\Tao_Lab\\JavaWorkplace\\Gitjava\\.qcodes\\logs\\command_history.log\n",
      "Mode           : append\n",
      "Output logging : True\n",
      "Raw input log  : False\n",
      "Timestamping   : True\n",
      "State          : active\n",
      "Qcodes Logfile : D:\\Labrad\\Tao_Lab\\JavaWorkplace\\Gitjava\\.qcodes\\logs\\201012-58352-qcodes.log\n"
     ]
    }
   ],
   "source": [
    "import sys\n",
    "sys.path.insert(0, r'D:\\Github\\zi_labrad')\n",
    "\n",
    "\n",
    "%matplotlib inline\n",
    "import os\n",
    "from time import sleep\n",
    "from importlib import reload\n",
    "import logging\n",
    "import matplotlib.pyplot as plt\n",
    "import numpy as np\n",
    "import qcodes as qc\n",
    "\n",
    "from qcodes import (\n",
    "    Measurement,\n",
    "    experiments,\n",
    "    initialise_database,\n",
    "    initialise_or_create_database_at,\n",
    "    load_by_guid,\n",
    "    load_by_run_spec,\n",
    "    load_experiment,\n",
    "    load_last_experiment,\n",
    "    load_or_create_experiment,\n",
    "    new_experiment,\n",
    ")\n",
    "from qcodes.dataset.plotting import plot_dataset\n",
    "from qcodes.logger.logger import start_all_logging\n",
    "\n",
    "\n",
    "logging.basicConfig(format='%(asctime)s | %(name)s [%(levelname)s] : %(message)s',\n",
    "                    level=logging.INFO\n",
    "                    )"
   ]
  },
  {
   "cell_type": "code",
   "execution_count": 17,
   "metadata": {},
   "outputs": [],
   "source": [
    "from zilabrad import *\n",
    "import labrad"
   ]
  },
  {
   "cell_type": "code",
   "execution_count": 18,
   "metadata": {},
   "outputs": [
    {
     "name": "stdout",
     "output_type": "stream",
     "text": [
      "Registry Root is ['', 'hwh']\n",
      "Sample Path is ['test_multiqubits']\n",
      "Data Vault directory is ['', 'hwh', 'test_multiqubits']\n"
     ]
    }
   ],
   "source": [
    "_default_modes = [1,2,3,4,5]\n",
    "devices = [None]*len(_default_modes)\n",
    "\n",
    "\n",
    "cxn=labrad.connect()\n",
    "ss = switchSession(cxn,user='hwh',session=None)"
   ]
  },
  {
   "cell_type": "code",
   "execution_count": 32,
   "metadata": {},
   "outputs": [],
   "source": [
    "Registry = qc.config\n",
    "Reg = Registry.update_config('M:\\Registry\\qcodesrc.json')\n",
    "# Reg now is only a wrapped dict\n",
    "\n",
    "reg = Reg['user']\n",
    "# reg give the parameters that we set"
   ]
  },
  {
   "cell_type": "code",
   "execution_count": 33,
   "metadata": {},
   "outputs": [],
   "source": [
    "def checkID():\n",
    "    if 'devicesID' not in reg.keys():\n",
    "        devicesid = {\n",
    "         'microwave_source_readout': '192.168.1.241',\n",
    "         'microwave_source_xy': '192.168.1.240',\n",
    "         'yokogawa_dc_ip': '192.168.1.239',\n",
    "         'zi_hd_id': 'dev8334',\n",
    "         'zi_qa_id': 'dev2591'}\n",
    "        Registry.add('devicesID',devicesid)\n",
    "        Registry.save_to_home()\n",
    "    else:\n",
    "        devicesid = reg['devicesID']\n",
    "        \n",
    "    logging.info(devicesid)"
   ]
  },
  {
   "cell_type": "code",
   "execution_count": 34,
   "metadata": {},
   "outputs": [
    {
     "data": {
      "text/plain": [
       "{'microwave_source_readout': '192.168.1.241',\n",
       " 'microwave_source_xy': '192.168.1.240',\n",
       " 'yokogawa_dc_ip': '192.168.1.239',\n",
       " 'zi_hd_id': 'dev8334',\n",
       " 'zi_qa_id': 'dev2591'}"
      ]
     },
     "execution_count": 34,
     "metadata": {},
     "output_type": "execute_result"
    }
   ],
   "source": [
    "checkID()\n",
    "reg['devicesID']"
   ]
  },
  {
   "cell_type": "code",
   "execution_count": 35,
   "metadata": {},
   "outputs": [],
   "source": [
    "def bringup_device(modes,reg):\n",
    "    dev = reg['devicesID']\n",
    "    for m in modes: \n",
    "        if m == 1:\n",
    "            qa = zH.zurich_qa(dev['zi_qa_id'])\n",
    "            devices[m-1] = qa\n",
    "        if m == 2:\n",
    "            hd = zH.zurich_hd(dev['zi_hd_id'])\n",
    "            devices[m-1] = hd\n",
    "        if m == 3:\n",
    "            mw = zH.microwave_source(dev['microwave_source_xy'],'mw')\n",
    "            devices[m-1] = mw\n",
    "        if m == 4:\n",
    "            mw_r = zH.microwave_source(dev['microwave_source_readout'],'mw_r')\n",
    "            devices[m-1] = mw_r\n",
    "        if m == 5:\n",
    "            wfs = waveforms.waveform()\n",
    "            devices[m-1] = wfs\n",
    "    return "
   ]
  },
  {
   "cell_type": "code",
   "execution_count": 36,
   "metadata": {},
   "outputs": [
    {
     "ename": "NameError",
     "evalue": "name 'zH' is not defined",
     "output_type": "error",
     "traceback": [
      "\u001b[1;31m---------------------------------------------------------------------------\u001b[0m",
      "\u001b[1;31mNameError\u001b[0m                                 Traceback (most recent call last)",
      "\u001b[1;32m<ipython-input-36-2f17af3ca264>\u001b[0m in \u001b[0;36m<module>\u001b[1;34m\u001b[0m\n\u001b[0;32m      1\u001b[0m \u001b[1;31m# bringup all\u001b[0m\u001b[1;33m\u001b[0m\u001b[1;33m\u001b[0m\u001b[1;33m\u001b[0m\u001b[0m\n\u001b[1;32m----> 2\u001b[1;33m \u001b[0mbringup_device\u001b[0m\u001b[1;33m(\u001b[0m\u001b[0m_default_modes\u001b[0m\u001b[1;33m,\u001b[0m\u001b[0mreg\u001b[0m\u001b[1;33m)\u001b[0m\u001b[1;33m\u001b[0m\u001b[1;33m\u001b[0m\u001b[0m\n\u001b[0m",
      "\u001b[1;32m<ipython-input-35-073c087dc9d4>\u001b[0m in \u001b[0;36mbringup_device\u001b[1;34m(modes, reg)\u001b[0m\n\u001b[0;32m      3\u001b[0m     \u001b[1;32mfor\u001b[0m \u001b[0mm\u001b[0m \u001b[1;32min\u001b[0m \u001b[0mmodes\u001b[0m\u001b[1;33m:\u001b[0m\u001b[1;33m\u001b[0m\u001b[1;33m\u001b[0m\u001b[0m\n\u001b[0;32m      4\u001b[0m         \u001b[1;32mif\u001b[0m \u001b[0mm\u001b[0m \u001b[1;33m==\u001b[0m \u001b[1;36m1\u001b[0m\u001b[1;33m:\u001b[0m\u001b[1;33m\u001b[0m\u001b[1;33m\u001b[0m\u001b[0m\n\u001b[1;32m----> 5\u001b[1;33m             \u001b[0mqa\u001b[0m \u001b[1;33m=\u001b[0m \u001b[0mzH\u001b[0m\u001b[1;33m.\u001b[0m\u001b[0mzurich_qa\u001b[0m\u001b[1;33m(\u001b[0m\u001b[0mdev\u001b[0m\u001b[1;33m[\u001b[0m\u001b[1;34m'zi_qa_id'\u001b[0m\u001b[1;33m]\u001b[0m\u001b[1;33m)\u001b[0m\u001b[1;33m\u001b[0m\u001b[1;33m\u001b[0m\u001b[0m\n\u001b[0m\u001b[0;32m      6\u001b[0m             \u001b[0mdevices\u001b[0m\u001b[1;33m[\u001b[0m\u001b[0mm\u001b[0m\u001b[1;33m-\u001b[0m\u001b[1;36m1\u001b[0m\u001b[1;33m]\u001b[0m \u001b[1;33m=\u001b[0m \u001b[0mqa\u001b[0m\u001b[1;33m\u001b[0m\u001b[1;33m\u001b[0m\u001b[0m\n\u001b[0;32m      7\u001b[0m         \u001b[1;32mif\u001b[0m \u001b[0mm\u001b[0m \u001b[1;33m==\u001b[0m \u001b[1;36m2\u001b[0m\u001b[1;33m:\u001b[0m\u001b[1;33m\u001b[0m\u001b[1;33m\u001b[0m\u001b[0m\n",
      "\u001b[1;31mNameError\u001b[0m: name 'zH' is not defined"
     ]
    }
   ],
   "source": [
    "# bringup all\n",
    "bringup_device(_default_modes,reg)"
   ]
  },
  {
   "cell_type": "code",
   "execution_count": null,
   "metadata": {},
   "outputs": [],
   "source": [
    "bringup_device([3],reg)"
   ]
  },
  {
   "cell_type": "code",
   "execution_count": null,
   "metadata": {},
   "outputs": [],
   "source": [
    "reload(mp)\n",
    "mp.exp_devices = devices\n",
    "mp.exp_devices"
   ]
  },
  {
   "cell_type": "code",
   "execution_count": null,
   "metadata": {},
   "outputs": [],
   "source": [
    "\n",
    "mp.s21_scan(ss,freq=ar[6.0:6.1:0.01,GHz])"
   ]
  },
  {
   "cell_type": "code",
   "execution_count": null,
   "metadata": {},
   "outputs": [],
   "source": []
  }
 ],
 "metadata": {
  "kernelspec": {
   "display_name": "Python 3",
   "language": "python",
   "name": "python3"
  },
  "language_info": {
   "codemirror_mode": {
    "name": "ipython",
    "version": 3
   },
   "file_extension": ".py",
   "mimetype": "text/x-python",
   "name": "python",
   "nbconvert_exporter": "python",
   "pygments_lexer": "ipython3",
   "version": "3.7.7"
  }
 },
 "nbformat": 4,
 "nbformat_minor": 4
}
