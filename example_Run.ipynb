{
 "cells": [
  {
   "cell_type": "code",
   "execution_count": null,
   "metadata": {},
   "outputs": [],
   "source": [
    "import sys\n",
    "sys.path.insert(0, r'D:\\Github\\zi_labrad')\n",
    "\n",
    "%matplotlib inline\n",
    "import os\n",
    "from time import sleep\n",
    "from importlib import reload\n",
    "import logging\n",
    "import matplotlib.pyplot as plt\n",
    "import numpy as np\n",
    "import qcodes as qc\n",
    "\n",
    "\n",
    "logging.basicConfig(format='%(asctime)s | %(name)s [%(levelname)s] : %(message)s',\n",
    "                    level=logging.INFO\n",
    "                    )"
   ]
  },
  {
   "cell_type": "code",
   "execution_count": null,
   "metadata": {},
   "outputs": [],
   "source": [
    "import labrad\n",
    "from labrad.units import Unit,Value\n",
    "_unitSpace = ('V','mV','us','ns','s','GHz','MHz','kHz','Hz','dBm','rad','None')\n",
    "V, mV, us, ns,s, GHz, MHz,kHz,Hz, dBm, rad,_l = [Unit(s) for s in _unitSpace]\n",
    "\n",
    "from zilabrad import *\n",
    "from zilabrad.pyle.util import sweeptools\n",
    "ar = sweeptools.RangeCreator()"
   ]
  },
  {
   "cell_type": "code",
   "execution_count": null,
   "metadata": {},
   "outputs": [],
   "source": [
    "_default_modes = [1,2,3,4,5]\n",
    "devices = [None]*len(_default_modes)\n",
    "\n",
    "cxn=labrad.connect()\n",
    "ss = switchSession(cxn,user='hwh',session=None)"
   ]
  },
  {
   "cell_type": "code",
   "execution_count": null,
   "metadata": {},
   "outputs": [],
   "source": [
    "Registry = qc.config\n",
    "Reg = Registry.update_config('M:\\Registry\\qcodesrc.json')\n",
    "# Reg now is only a wrapped dict\n",
    "\n",
    "reg = Reg['user']\n",
    "# reg give the parameters that we set"
   ]
  },
  {
   "cell_type": "code",
   "execution_count": null,
   "metadata": {},
   "outputs": [],
   "source": [
    "def checkID():\n",
    "    if 'devicesID' not in reg.keys():\n",
    "        devicesid = {\n",
    "         'microwave_source_readout': '192.168.1.241',\n",
    "         'microwave_source_xy': '192.168.1.240',\n",
    "         'yokogawa_dc_ip': '192.168.1.239',\n",
    "         'zi_hd_id': 'dev8334',\n",
    "         'zi_qa_id': 'dev2591'}\n",
    "        Registry.add('devicesID',devicesid)\n",
    "        Registry.save_to_home()\n",
    "    else:\n",
    "        devicesid = reg['devicesID']\n",
    "        \n",
    "    logging.info(devicesid)"
   ]
  },
  {
   "cell_type": "code",
   "execution_count": null,
   "metadata": {},
   "outputs": [],
   "source": [
    "checkID()\n",
    "reg['devicesID']"
   ]
  },
  {
   "cell_type": "code",
   "execution_count": null,
   "metadata": {},
   "outputs": [],
   "source": [
    "def bringup_device(modes,reg):\n",
    "    zH = zurichHelper\n",
    "    dev = reg['devicesID']\n",
    "    for m in modes: \n",
    "        if m == 1:\n",
    "            qa = zH.zurich_qa(dev['zi_qa_id'])\n",
    "            devices[m-1] = qa\n",
    "        if m == 2:\n",
    "            hd = zH.zurich_hd(dev['zi_hd_id'])\n",
    "            devices[m-1] = hd\n",
    "        if m == 3:\n",
    "            mw = zH.microwave_source(dev['microwave_source_xy'],'mw')\n",
    "            devices[m-1] = mw\n",
    "        if m == 4:\n",
    "            mw_r = zH.microwave_source(dev['microwave_source_readout'],'mw_r')\n",
    "            devices[m-1] = mw_r\n",
    "        if m == 5:\n",
    "            wfs = waveforms.waveform()\n",
    "            devices[m-1] = wfs\n",
    "    return "
   ]
  },
  {
   "cell_type": "code",
   "execution_count": null,
   "metadata": {},
   "outputs": [],
   "source": [
    "# bringup all\n",
    "bringup_device(_default_modes,reg)"
   ]
  },
  {
   "cell_type": "code",
   "execution_count": null,
   "metadata": {},
   "outputs": [],
   "source": [
    "# bringup_device([3],reg)"
   ]
  },
  {
   "cell_type": "code",
   "execution_count": null,
   "metadata": {},
   "outputs": [],
   "source": [
    "reload(mp)\n",
    "mp.exp_devices = devices\n",
    "mp.exp_devices"
   ]
  },
  {
   "cell_type": "code",
   "execution_count": null,
   "metadata": {},
   "outputs": [],
   "source": [
    "# mp.s21_scan(ss,freq=ar[6.0:6.1:0.01,GHz])"
   ]
  },
  {
   "cell_type": "code",
   "execution_count": null,
   "metadata": {},
   "outputs": [],
   "source": []
  }
 ],
 "metadata": {
  "kernelspec": {
   "display_name": "Python 3",
   "language": "python",
   "name": "python3"
  },
  "language_info": {
   "codemirror_mode": {
    "name": "ipython",
    "version": 3
   },
   "file_extension": ".py",
   "mimetype": "text/x-python",
   "name": "python",
   "nbconvert_exporter": "python",
   "pygments_lexer": "ipython3",
   "version": "3.7.7"
  }
 },
 "nbformat": 4,
 "nbformat_minor": 4
}
