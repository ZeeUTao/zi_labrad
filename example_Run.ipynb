{
 "cells": [
  {
   "cell_type": "code",
   "execution_count": null,
   "metadata": {},
   "outputs": [],
   "source": [
    "import sys\n",
    "sys.path.insert(0, r'D:\\Github\\zi_labrad')\n",
    "\n",
    "%matplotlib inline\n",
    "import os\n",
    "from time import sleep\n",
    "from importlib import reload\n",
    "import logging\n",
    "import matplotlib.pyplot as plt\n",
    "import numpy as np\n",
    "import qcodes as qc\n",
    "\n",
    "\n",
    "logging.basicConfig(format='%(asctime)s | %(name)s [%(levelname)s] : %(message)s',\n",
    "                    level=logging.INFO\n",
    "                    )"
   ]
  },
  {
   "cell_type": "code",
   "execution_count": null,
   "metadata": {},
   "outputs": [],
   "source": [
    "import labrad\n",
    "from labrad.units import Unit,Value\n",
    "_unitSpace = ('V','mV','us','ns','s','GHz','MHz','kHz','Hz','dBm','rad','None')\n",
    "V, mV, us, ns,s, GHz, MHz,kHz,Hz, dBm, rad,_l = [Unit(s) for s in _unitSpace]\n",
    "\n",
    "from zilabrad import *\n",
    "from zilabrad.pyle.util import sweeptools\n",
    "ar = sweeptools.RangeCreator()"
   ]
  },
  {
   "cell_type": "code",
   "execution_count": null,
   "metadata": {},
   "outputs": [],
   "source": [
    "_default_modes = [1,2,3,4,5]\n",
    "devices = [None]*len(_default_modes)\n",
    "\n",
    "cxn=labrad.connect()\n",
    "ss = switchSession(cxn,user='hwh',session=None)"
   ]
  },
  {
   "cell_type": "code",
   "execution_count": null,
   "metadata": {},
   "outputs": [],
   "source": [
    "from zilabrad.instrument.qubitServer import loadQubits"
   ]
  },
  {
   "cell_type": "code",
   "execution_count": null,
   "metadata": {},
   "outputs": [],
   "source": [
    "sample, qubits = loadQubits(ss, write_access=False)"
   ]
  },
  {
   "cell_type": "code",
   "execution_count": null,
   "metadata": {},
   "outputs": [],
   "source": [
    "Registry = qc.config\n",
    "Reg = Registry.update_config('M:\\Registry\\qcodesrc.json')\n",
    "# Reg now is only a wrapped dict\n",
    "\n",
    "reg = Reg['user']\n",
    "# reg give the parameters that we set"
   ]
  },
  {
   "cell_type": "code",
   "execution_count": null,
   "metadata": {},
   "outputs": [],
   "source": [
    "def checkID():\n",
    "    if 'devicesID' not in reg.keys():\n",
    "        devicesid = {\n",
    "         'microwave_source_readout': '192.168.1.241',\n",
    "         'microwave_source_xy': '192.168.1.240',\n",
    "         'yokogawa_dc_ip': '192.168.1.239',\n",
    "         'zi_hd_id': 'dev8334',\n",
    "         'zi_qa_id': 'dev2591'}\n",
    "        Registry.add('devicesID',devicesid)\n",
    "        Registry.save_to_home()\n",
    "    else:\n",
    "        devicesid = reg['devicesID']\n",
    "        \n",
    "    logging.info(devicesid)"
   ]
  },
  {
   "cell_type": "code",
   "execution_count": null,
   "metadata": {},
   "outputs": [],
   "source": [
    "checkID()\n",
    "reg['devicesID']"
   ]
  },
  {
   "cell_type": "code",
   "execution_count": null,
   "metadata": {},
   "outputs": [],
   "source": [
    "def bringup_device(modes,reg):\n",
    "    zH = zurichHelper\n",
    "    dev = reg['devicesID']\n",
    "    for m in modes: \n",
    "        if m == 1:\n",
    "            qa = zH.zurich_qa(dev['zi_qa_id'])\n",
    "            devices[m-1] = qa\n",
    "        if m == 2:\n",
    "            hd = zH.zurich_hd(dev['zi_hd_id'])\n",
    "            devices[m-1] = hd\n",
    "        if m == 3:\n",
    "            mw = zH.microwave_source(dev['microwave_source_xy'],'mw')\n",
    "            devices[m-1] = mw\n",
    "        if m == 4:\n",
    "            mw_r = zH.microwave_source(dev['microwave_source_readout'],'mw_r')\n",
    "            devices[m-1] = mw_r\n",
    "        if m == 5:\n",
    "            wfs = waveforms.waveform()\n",
    "            devices[m-1] = wfs\n",
    "    return "
   ]
  },
  {
   "cell_type": "code",
   "execution_count": null,
   "metadata": {},
   "outputs": [],
   "source": [
    "# bringup all\n",
    "bringup_device(_default_modes,reg)"
   ]
  },
  {
   "cell_type": "code",
   "execution_count": null,
   "metadata": {},
   "outputs": [],
   "source": [
    "# bringup_device([3],reg)"
   ]
  },
  {
   "cell_type": "code",
   "execution_count": null,
   "metadata": {},
   "outputs": [],
   "source": [
    "def RunAllDummy(*args):\n",
    "    exp_devices = [None]*4\n",
    "    RunAllExperiment(exp_devices,*args)\n",
    "    return\n",
    "\n",
    "RunAllDummy = mp.RunAllExp"
   ]
  },
  {
   "cell_type": "code",
   "execution_count": null,
   "metadata": {},
   "outputs": [],
   "source": [
    "def runDummy(qubits,exp_devices):\n",
    "    for q in qubits: ## 多比特\n",
    "        if 'do_readout' in q.keys():\n",
    "            if 'r' not in q.keys():\n",
    "                q.demod_phase = q.qa_adjusted_phase[Hz]*(qa.adc_trig_delay_s) ## adjusted phase\n",
    "                q.r = waveforms.readout(amp=q.power_r,phase=q.demod_phase,freq=q.demod_freq,start=0,length=q.readout_len)\n",
    "    return \n",
    "    \n",
    "mp.runQ = runDummy"
   ]
  },
  {
   "cell_type": "code",
   "execution_count": null,
   "metadata": {},
   "outputs": [],
   "source": [
    "reload(mp)\n",
    "mp.exp_devices = devices\n",
    "mp.exp_devices"
   ]
  },
  {
   "cell_type": "code",
   "execution_count": null,
   "metadata": {},
   "outputs": [],
   "source": [
    "# mp.s21_scan(ss,freq=ar[6.0:6.1:0.01,GHz])"
   ]
  },
  {
   "cell_type": "code",
   "execution_count": null,
   "metadata": {},
   "outputs": [],
   "source": [
    "import time\n",
    "time0=time.time()"
   ]
  },
  {
   "cell_type": "code",
   "execution_count": null,
   "metadata": {},
   "outputs": [],
   "source": [
    "from math import ceil,pi"
   ]
  },
  {
   "cell_type": "code",
   "execution_count": null,
   "metadata": {},
   "outputs": [],
   "source": [
    "(1*us)['s']"
   ]
  },
  {
   "cell_type": "code",
   "execution_count": null,
   "metadata": {},
   "outputs": [],
   "source": [
    "print('array',np.arange(100))"
   ]
  },
  {
   "cell_type": "code",
   "execution_count": null,
   "metadata": {},
   "outputs": [],
   "source": [
    "# 100 us\n",
    "\n",
    "all_length= 1e-6\n",
    "fs=1.8e9\n",
    "sampling_num = ceil(all_length*fs/16)*16"
   ]
  },
  {
   "cell_type": "code",
   "execution_count": null,
   "metadata": {},
   "outputs": [],
   "source": [
    "sampling_num"
   ]
  },
  {
   "cell_type": "code",
   "execution_count": null,
   "metadata": {},
   "outputs": [],
   "source": [
    "funcCos = lambda t: np.cos(6*t)\n",
    "\n",
    "def toArray_Array(points):\n",
    "    tlist = np.arange(points)\n",
    "    funcArray = [funcCos(t) for t in tlist]\n",
    "    return\n",
    "\n",
    "def toArray2_Generator(points):\n",
    "    tlist = range(points)\n",
    "    funcArray = [funcCos(t) for t in tlist]\n",
    "    return"
   ]
  },
  {
   "cell_type": "code",
   "execution_count": null,
   "metadata": {},
   "outputs": [],
   "source": [
    "sampling_num = 1808"
   ]
  },
  {
   "cell_type": "code",
   "execution_count": null,
   "metadata": {},
   "outputs": [],
   "source": [
    "\n",
    "time0=time.time()\n",
    "\n",
    "arrays = toArray_Array(points = sampling_num)\n",
    "print(time.time()-time0)"
   ]
  },
  {
   "cell_type": "code",
   "execution_count": null,
   "metadata": {},
   "outputs": [],
   "source": [
    "np.arange(0.1,0.9,0.5)"
   ]
  },
  {
   "cell_type": "code",
   "execution_count": null,
   "metadata": {},
   "outputs": [],
   "source": [
    "from math import ceil\n",
    "import time\n",
    "import numpy as np"
   ]
  },
  {
   "cell_type": "code",
   "execution_count": null,
   "metadata": {},
   "outputs": [],
   "source": [
    "from zilabrad.instrument.waveforms import cosine"
   ]
  },
  {
   "cell_type": "code",
   "execution_count": null,
   "metadata": {},
   "outputs": [],
   "source": [
    "class waveform(object):\n",
    "    def __init__(self,all_length=1e-6,fs=1.8e9,origin=0):\n",
    "        self.fs = fs\n",
    "        self.sample_number = ceil(all_length*self.fs/16)*16 ## QA lenght最小16,最小单位间隔8; HD length最小32,最小单位间隔16;\n",
    "        self.tlist = []\n",
    "    def func2array(self,envelopes,start=None,end=None,fs=None):\n",
    "        if start == None:\n",
    "            start = envelopes.start\n",
    "        if end == None:\n",
    "            end = envelopes.end\n",
    "            \n",
    "        if len(self.tlist) == 0:\n",
    "            if fs == None:\n",
    "                fs = self.fs\n",
    "            tlist = np.arange(start,end,1/fs)\n",
    "        else:\n",
    "            tlist = self.tlist\n",
    "        \n",
    "        pulse = [envelopes(t) for t in tlist]\n",
    "        return pulse\n",
    "    def set_tlist(self,origin,end,fs):\n",
    "        self.tlist = np.arange(origin,end,1./fs)"
   ]
  },
  {
   "cell_type": "code",
   "execution_count": null,
   "metadata": {},
   "outputs": [],
   "source": [
    "class waveform_gene(object):\n",
    "    def __init__(self,all_length=1e-6,fs=1.8e9,origin=0):\n",
    "        self.fs = fs\n",
    "        self.sample_number = ceil(all_length*self.fs/16)*16 ## QA lenght最小16,最小单位间隔8; HD length最小32,最小单位间隔16;\n",
    "    \n",
    "    def func2array(self,envelopes,start=None,end=None,fs=None):\n",
    "        t0 = time.time()\n",
    "        if fs == None:\n",
    "            fs = self.fs\n",
    "        if start == None:\n",
    "            start = envelopes.start\n",
    "        if end == None:\n",
    "            end = envelopes.end\n",
    "            \n",
    "        if end <= start:\n",
    "            return []\n",
    "        \n",
    "        interval = 1./self.fs\n",
    "        steps = ceil((end - start)/interval)\n",
    "        pulse = [envelopes(x*interval+start) for x in range(steps)]\n",
    "        return pulse\n",
    "\n",
    "    def func2array_np(self,npfunc,start=None,end=None,fs=None):\n",
    "        t0 = time.time()\n",
    "        if fs == None:\n",
    "            fs = self.fs\n",
    "        if start == None:\n",
    "            start = envelopes.start\n",
    "        if end == None:\n",
    "            end = envelopes.end\n",
    "            \n",
    "        if end <= start:\n",
    "            return []\n",
    "        interval = 1./self.fs\n",
    "#         steps = ceil((end - start)/interval)\n",
    "        return npfunc(np.arange(start,end,interval))"
   ]
  },
  {
   "cell_type": "code",
   "execution_count": null,
   "metadata": {},
   "outputs": [],
   "source": [
    "fs=1.8e9\n",
    "wf_taoziyu3 = waveform_gene(fs)\n",
    "t0 = time.time()\n",
    "\n",
    "def cosine3(x):\n",
    "    return np.cos(x)+np.cos(10*x)\n",
    "pulses3 = []\n",
    "for _ in range(80):\n",
    "    pulses3.append(wf_taoziyu3.func2array_np(cosine3,start=0.,end=10e-6))\n",
    "print(\"Peach update2 Cost %.4f ms\" % (1e3*(time.time()-t0) ) )"
   ]
  }
 ],
 "metadata": {
  "kernelspec": {
   "display_name": "Python 3",
   "language": "python",
   "name": "python3"
  },
  "language_info": {
   "codemirror_mode": {
    "name": "ipython",
    "version": 3
   },
   "file_extension": ".py",
   "mimetype": "text/x-python",
   "name": "python",
   "nbconvert_exporter": "python",
   "pygments_lexer": "ipython3",
   "version": "3.7.7"
  }
 },
 "nbformat": 4,
 "nbformat_minor": 4
}
